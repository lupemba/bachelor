{
 "cells": [
  {
   "cell_type": "code",
   "execution_count": 1,
   "metadata": {},
   "outputs": [],
   "source": [
    "import pandas as pd\n",
    "import numpy as np\n",
    "import pickle\n",
    "from pyamps import AMPS\n",
    "import matplotlib.pyplot as plt\n",
    "import My_functions_v2 as my"
   ]
  },
  {
   "cell_type": "code",
   "execution_count": 2,
   "metadata": {},
   "outputs": [],
   "source": [
    "Half_orbit = pd.read_pickle('/home/simon/Desktop/Bachelor_project/data/pkl_files/half_orbit_means.pkl')"
   ]
  },
  {
   "cell_type": "code",
   "execution_count": 3,
   "metadata": {},
   "outputs": [
    {
     "name": "stderr",
     "output_type": "stream",
     "text": [
      "/home/simon/anaconda3/lib/python3.6/site-packages/pandas/core/indexing.py:357: SettingWithCopyWarning: \n",
      "A value is trying to be set on a copy of a slice from a DataFrame.\n",
      "Try using .loc[row_indexer,col_indexer] = value instead\n",
      "\n",
      "See the caveats in the documentation: http://pandas.pydata.org/pandas-docs/stable/indexing.html#indexing-view-versus-copy\n",
      "  self.obj[key] = _infer_fill_value(value)\n",
      "/home/simon/anaconda3/lib/python3.6/site-packages/pandas/core/indexing.py:621: SettingWithCopyWarning: \n",
      "A value is trying to be set on a copy of a slice from a DataFrame.\n",
      "Try using .loc[row_indexer,col_indexer] = value instead\n",
      "\n",
      "See the caveats in the documentation: http://pandas.pydata.org/pandas-docs/stable/indexing.html#indexing-view-versus-copy\n",
      "  self.obj[item_labels[indexer[info_axis]]] = value\n"
     ]
    }
   ],
   "source": [
    "test = Half_orbit[0:20]\n",
    "my.add_pyamps_currents(test)"
   ]
  },
  {
   "cell_type": "code",
   "execution_count": 4,
   "metadata": {},
   "outputs": [
    {
     "data": {
      "text/html": [
       "<div>\n",
       "<style scoped>\n",
       "    .dataframe tbody tr th:only-of-type {\n",
       "        vertical-align: middle;\n",
       "    }\n",
       "\n",
       "    .dataframe tbody tr th {\n",
       "        vertical-align: top;\n",
       "    }\n",
       "\n",
       "    .dataframe thead th {\n",
       "        text-align: right;\n",
       "    }\n",
       "</style>\n",
       "<table border=\"1\" class=\"dataframe\">\n",
       "  <thead>\n",
       "    <tr style=\"text-align: right;\">\n",
       "      <th></th>\n",
       "      <th>Density_corr</th>\n",
       "      <th>FAC</th>\n",
       "      <th>FAC_power</th>\n",
       "      <th>Density</th>\n",
       "      <th>Altitude</th>\n",
       "      <th>Orbit_nr</th>\n",
       "      <th>Hemisphere</th>\n",
       "      <th>AP_INDEX</th>\n",
       "      <th>Kp</th>\n",
       "      <th>F10_INDEX</th>\n",
       "      <th>BY_GSM</th>\n",
       "      <th>BZ_GSM</th>\n",
       "      <th>Bulk_speed</th>\n",
       "      <th>F10_Mean</th>\n",
       "      <th>PyAmps</th>\n",
       "    </tr>\n",
       "  </thead>\n",
       "  <tbody>\n",
       "    <tr>\n",
       "      <th>2015-01-02 00:50:50</th>\n",
       "      <td>4.490907e-13</td>\n",
       "      <td>0.104478</td>\n",
       "      <td>0.284759</td>\n",
       "      <td>6.468488e-13</td>\n",
       "      <td>464222.287865</td>\n",
       "      <td>1.0</td>\n",
       "      <td>1.0</td>\n",
       "      <td>15.0</td>\n",
       "      <td>3.0</td>\n",
       "      <td>141.0</td>\n",
       "      <td>-1.0</td>\n",
       "      <td>-2.1</td>\n",
       "      <td>433.0</td>\n",
       "      <td>129.029218</td>\n",
       "      <td>1.769016</td>\n",
       "    </tr>\n",
       "    <tr>\n",
       "      <th>2015-01-02 01:37:45</th>\n",
       "      <td>5.746177e-13</td>\n",
       "      <td>0.139248</td>\n",
       "      <td>0.372618</td>\n",
       "      <td>6.987142e-13</td>\n",
       "      <td>475492.964700</td>\n",
       "      <td>1.0</td>\n",
       "      <td>-1.0</td>\n",
       "      <td>15.0</td>\n",
       "      <td>3.0</td>\n",
       "      <td>141.0</td>\n",
       "      <td>-0.6</td>\n",
       "      <td>-1.7</td>\n",
       "      <td>433.0</td>\n",
       "      <td>129.032511</td>\n",
       "      <td>2.962752</td>\n",
       "    </tr>\n",
       "    <tr>\n",
       "      <th>2015-01-02 02:24:40</th>\n",
       "      <td>4.220675e-13</td>\n",
       "      <td>0.113231</td>\n",
       "      <td>0.390340</td>\n",
       "      <td>6.089699e-13</td>\n",
       "      <td>464224.157119</td>\n",
       "      <td>2.0</td>\n",
       "      <td>1.0</td>\n",
       "      <td>15.0</td>\n",
       "      <td>3.0</td>\n",
       "      <td>141.0</td>\n",
       "      <td>-2.2</td>\n",
       "      <td>-2.4</td>\n",
       "      <td>434.0</td>\n",
       "      <td>129.035803</td>\n",
       "      <td>1.880936</td>\n",
       "    </tr>\n",
       "    <tr>\n",
       "      <th>2015-01-02 03:11:35</th>\n",
       "      <td>5.656725e-13</td>\n",
       "      <td>0.181961</td>\n",
       "      <td>0.565810</td>\n",
       "      <td>6.858343e-13</td>\n",
       "      <td>475506.057772</td>\n",
       "      <td>2.0</td>\n",
       "      <td>-1.0</td>\n",
       "      <td>4.0</td>\n",
       "      <td>1.0</td>\n",
       "      <td>141.0</td>\n",
       "      <td>-3.0</td>\n",
       "      <td>-2.3</td>\n",
       "      <td>433.0</td>\n",
       "      <td>129.039095</td>\n",
       "      <td>4.111182</td>\n",
       "    </tr>\n",
       "    <tr>\n",
       "      <th>2015-01-02 03:58:30</th>\n",
       "      <td>4.305537e-13</td>\n",
       "      <td>0.075313</td>\n",
       "      <td>0.165567</td>\n",
       "      <td>6.237317e-13</td>\n",
       "      <td>464035.397442</td>\n",
       "      <td>3.0</td>\n",
       "      <td>1.0</td>\n",
       "      <td>4.0</td>\n",
       "      <td>1.0</td>\n",
       "      <td>141.0</td>\n",
       "      <td>-3.0</td>\n",
       "      <td>-2.3</td>\n",
       "      <td>433.0</td>\n",
       "      <td>129.039095</td>\n",
       "      <td>1.841245</td>\n",
       "    </tr>\n",
       "  </tbody>\n",
       "</table>\n",
       "</div>"
      ],
      "text/plain": [
       "                     Density_corr       FAC  FAC_power       Density  \\\n",
       "2015-01-02 00:50:50  4.490907e-13  0.104478   0.284759  6.468488e-13   \n",
       "2015-01-02 01:37:45  5.746177e-13  0.139248   0.372618  6.987142e-13   \n",
       "2015-01-02 02:24:40  4.220675e-13  0.113231   0.390340  6.089699e-13   \n",
       "2015-01-02 03:11:35  5.656725e-13  0.181961   0.565810  6.858343e-13   \n",
       "2015-01-02 03:58:30  4.305537e-13  0.075313   0.165567  6.237317e-13   \n",
       "\n",
       "                          Altitude  Orbit_nr  Hemisphere  AP_INDEX   Kp  \\\n",
       "2015-01-02 00:50:50  464222.287865       1.0         1.0      15.0  3.0   \n",
       "2015-01-02 01:37:45  475492.964700       1.0        -1.0      15.0  3.0   \n",
       "2015-01-02 02:24:40  464224.157119       2.0         1.0      15.0  3.0   \n",
       "2015-01-02 03:11:35  475506.057772       2.0        -1.0       4.0  1.0   \n",
       "2015-01-02 03:58:30  464035.397442       3.0         1.0       4.0  1.0   \n",
       "\n",
       "                     F10_INDEX  BY_GSM  BZ_GSM  Bulk_speed    F10_Mean  \\\n",
       "2015-01-02 00:50:50      141.0    -1.0    -2.1       433.0  129.029218   \n",
       "2015-01-02 01:37:45      141.0    -0.6    -1.7       433.0  129.032511   \n",
       "2015-01-02 02:24:40      141.0    -2.2    -2.4       434.0  129.035803   \n",
       "2015-01-02 03:11:35      141.0    -3.0    -2.3       433.0  129.039095   \n",
       "2015-01-02 03:58:30      141.0    -3.0    -2.3       433.0  129.039095   \n",
       "\n",
       "                       PyAmps  \n",
       "2015-01-02 00:50:50  1.769016  \n",
       "2015-01-02 01:37:45  2.962752  \n",
       "2015-01-02 02:24:40  1.880936  \n",
       "2015-01-02 03:11:35  4.111182  \n",
       "2015-01-02 03:58:30  1.841245  "
      ]
     },
     "execution_count": 4,
     "metadata": {},
     "output_type": "execute_result"
    }
   ],
   "source": [
    "test.head()"
   ]
  },
  {
   "cell_type": "code",
   "execution_count": null,
   "metadata": {},
   "outputs": [],
   "source": []
  },
  {
   "cell_type": "code",
   "execution_count": 5,
   "metadata": {},
   "outputs": [],
   "source": [
    "indx = Half_orbit.FAC==Half_orbit.FAC.max()"
   ]
  },
  {
   "cell_type": "code",
   "execution_count": 8,
   "metadata": {},
   "outputs": [],
   "source": [
    "from math import radians, degrees, sin, cos, asin\n",
    "\n",
    "def vector_from_colat_lon(colat, lon):\n",
    "    return np.array([sin(colat)*cos(lon), sin(colat)*sin(lon), cos(colat)])\n",
    "\n",
    "def sun_unit_vector(t):\n",
    "    from apexpy.helpers import subsol\n",
    "    lat, lon = subsol(t)\n",
    "    colatrad = radians(90.0-lat)\n",
    "    lonrad   = radians(lon)\n",
    "    vec = vector_from_colat_lon(colatrad, lonrad)\n",
    "    return vec\n",
    "\n",
    "def pole_unit_vector(t):\n",
    "    from apexpy import Apex\n",
    "    apexdate = t.year + t.dayofyear/365 # routine needs data as for example 2015.3\n",
    "    A = Apex(date=apexdate)\n",
    "    glat, glon = A.convert(90, 0, 'apex', 'geo', height=0)\n",
    "    colatrad = radians(90.0-glat)\n",
    "    lonrad = radians(glon)\n",
    "    vec = vector_from_colat_lon(colatrad, lonrad) #vector_from_colat_lon\n",
    "    return vec\n",
    "\n",
    "def dipole_tilt_angle(t):\n",
    "    return asin(np.dot(sun_unit_vector(t), pole_unit_vector(t)))\n",
    "\n"
   ]
  },
  {
   "cell_type": "code",
   "execution_count": 9,
   "metadata": {},
   "outputs": [],
   "source": [
    "m = AMPS(Half_orbit[indx].Bulk_speed.values[0], # Solar wind velocity in km/s\n",
    "         Half_orbit[indx].BY_GSM.values[0], # IMF By (GSM) in nT\n",
    "         Half_orbit[indx].BZ_GSM.values[0], # IMF Bz (GSM) in nT,\n",
    "         20, # dipole tilt angle in degrees\n",
    "         Half_orbit[indx].F10_INDEX.values[0], # F107_index\n",
    "         height = 470 )"
   ]
  },
  {
   "cell_type": "code",
   "execution_count": 10,
   "metadata": {},
   "outputs": [],
   "source": [
    "N=8\n",
    "Total_J = np.zeros(N)\n",
    "\n",
    "for i in range(N):\n",
    "    m.update_model(Half_orbit.Bulk_speed.values[i], # Solar wind velocity in km/s\n",
    "         Half_orbit.BY_GSM.values[i], # IMF By (GSM) in nT\n",
    "         Half_orbit.BZ_GSM.values[i], # IMF Bz (GSM) in nT,\n",
    "         dipole_tilt_angle(Half_orbit.index[i])/np.pi*180, # dipole tilt angle in degrees\n",
    "         Half_orbit.F10_INDEX.values[i]) # F107_index\n",
    "    J_up_n, J_down_n, J_up_s, J_down_s = m.get_integrated_upward_current()\n",
    "    if Half_orbit.Hemisphere.values[i]==1:\n",
    "        Total_J[i] = abs(J_up_n)+abs(J_down_n)\n",
    "    else:\n",
    "        Total_J[i] = abs(J_up_s)+abs(J_down_s)\n",
    "    "
   ]
  },
  {
   "cell_type": "code",
   "execution_count": 11,
   "metadata": {},
   "outputs": [
    {
     "data": {
      "text/plain": [
       "array([1.7690156 , 2.96275182, 1.88093577, 4.11118215, 1.84124492,\n",
       "       3.67384324, 1.1093224 , 3.03863028])"
      ]
     },
     "execution_count": 11,
     "metadata": {},
     "output_type": "execute_result"
    }
   ],
   "source": [
    "Total_J"
   ]
  },
  {
   "cell_type": "code",
   "execution_count": null,
   "metadata": {},
   "outputs": [],
   "source": [
    "%matplotlib notebook"
   ]
  },
  {
   "cell_type": "code",
   "execution_count": null,
   "metadata": {
    "scrolled": true
   },
   "outputs": [],
   "source": [
    "plt.figure()\n",
    "\n",
    "p1 = Half_orbit.FAC.plot(legend=True)\n",
    "p2 = Half_orbit.PyAmps.plot(secondary_y=True, style='r',legend=True)\n",
    "p1.set_ylabel('muA/m2')\n",
    "p1.right_ax.set_ylabel('MA')\n",
    "plt.title('ppp')"
   ]
  },
  {
   "cell_type": "code",
   "execution_count": null,
   "metadata": {},
   "outputs": [],
   "source": [
    "m.plot_currents()"
   ]
  },
  {
   "cell_type": "code",
   "execution_count": null,
   "metadata": {},
   "outputs": [],
   "source": [
    "add_pyamps_currents"
   ]
  }
 ],
 "metadata": {
  "kernelspec": {
   "display_name": "Python 3",
   "language": "python",
   "name": "python3"
  },
  "language_info": {
   "codemirror_mode": {
    "name": "ipython",
    "version": 3
   },
   "file_extension": ".py",
   "mimetype": "text/x-python",
   "name": "python",
   "nbconvert_exporter": "python",
   "pygments_lexer": "ipython3",
   "version": "3.6.4"
  }
 },
 "nbformat": 4,
 "nbformat_minor": 2
}
