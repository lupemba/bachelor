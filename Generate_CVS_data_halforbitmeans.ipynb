{
 "cells": [
  {
   "cell_type": "markdown",
   "metadata": {},
   "source": [
    "# Bachelor project: Swarm data\n",
    "This use panda and my new fuctions to plot the data and half orbit means"
   ]
  },
  {
   "cell_type": "code",
   "execution_count": 1,
   "metadata": {},
   "outputs": [],
   "source": [
    "import pandas as pd\n",
    "import numpy as np\n",
    "import os\n",
    "os.chdir('/home/simon/Desktop/Bachelor_project/code')\n",
    "import My_functions as my\n",
    "days = 31"
   ]
  },
  {
   "cell_type": "markdown",
   "metadata": {},
   "source": [
    "## Load the data PANDA and filter"
   ]
  },
  {
   "cell_type": "code",
   "execution_count": 2,
   "metadata": {
    "scrolled": true
   },
   "outputs": [
    {
     "name": "stderr",
     "output_type": "stream",
     "text": [
      "\u001b[31;1mERROR\u001b[0m\tUnable to unzip file /home/simon/Desktop/Bachelor_project/data/SW_OPER_FACATMS_2F_20150305T000000_20150305T235959_0205.ZIP to location /tmp/swarmtoolkit_ivla552d\n",
      "\tEnsure that the files and locations are valid and that the file is not corrupted\n"
     ]
    },
    {
     "name": "stdout",
     "output_type": "stream",
     "text": [
      "SW_OPER_FACATMS_2F_20150305T000000_20150305T235959_0205.ZIP Was not found\n"
     ]
    }
   ],
   "source": [
    "FACA = my.load_FAC('A',days)\n",
    "FACC = my.load_FAC('C',days)\n",
    "DNS = my.load_DNS(days)\n",
    "ap = my.load_ap(days)\n",
    "FACA = FACA.dropna(how='any')\n",
    "FACC = FACC.dropna(how='any')\n",
    "DNS = DNS.dropna(how='any')\n",
    "\n",
    "my.add_orbit(FACA)\n",
    "my.add_orbit(FACC)\n",
    "my.add_orbit(DNS)"
   ]
  },
  {
   "cell_type": "markdown",
   "metadata": {},
   "source": [
    "Filter the FAC before mean"
   ]
  },
  {
   "cell_type": "code",
   "execution_count": 3,
   "metadata": {},
   "outputs": [],
   "source": [
    "FACA = FACA.loc[abs(FACA.FAC_Error)<40]\n",
    "FACC= FACC.loc[abs(FACC.FAC_Error)<40]"
   ]
  },
  {
   "cell_type": "markdown",
   "metadata": {},
   "source": [
    "## Half orbit means\n",
    "Calculate the half orbit means"
   ]
  },
  {
   "cell_type": "code",
   "execution_count": 4,
   "metadata": {},
   "outputs": [],
   "source": [
    "FACA_mean=my.orbit_means(FACA)\n",
    "FACC_mean=my.orbit_means(FACC)\n",
    "DNS_mean=my.orbit_means(DNS)"
   ]
  },
  {
   "cell_type": "markdown",
   "metadata": {},
   "source": [
    "Remove all half orbits with times that diviates more than 6 min"
   ]
  },
  {
   "cell_type": "code",
   "execution_count": 5,
   "metadata": {},
   "outputs": [],
   "source": [
    "FACA_mean=FACA_mean.loc[abs(FACA_mean.Delta_time-FACA_mean.Delta_time.median())<360]\n",
    "FACC_mean=FACC_mean.loc[abs(FACC_mean.Delta_time-FACC_mean.Delta_time.median())<360]\n",
    "DNS_mean=DNS_mean.loc[abs(DNS_mean.Delta_time-DNS_mean.Delta_time.median())<360]"
   ]
  },
  {
   "cell_type": "markdown",
   "metadata": {},
   "source": [
    "Allign the time index"
   ]
  },
  {
   "cell_type": "code",
   "execution_count": 6,
   "metadata": {},
   "outputs": [],
   "source": [
    "df1 = FACA_mean.FAC.reindex(DNS_mean.index,method='nearest')\n",
    "df1.name = 'FAC_A'\n",
    "df2 = FACC_mean.FAC.reindex(DNS_mean.index,method='nearest')\n",
    "df2.name = 'FAC_C'\n",
    "df3 = ap.ap.reindex(DNS_mean.index,method='bfill')\n",
    "df_allign = pd.concat([df1,df2,df3,DNS_mean.iloc[:,0:3]], axis=1)"
   ]
  },
  {
   "cell_type": "markdown",
   "metadata": {},
   "source": [
    "## Save data for easy acces "
   ]
  },
  {
   "cell_type": "code",
   "execution_count": 7,
   "metadata": {},
   "outputs": [],
   "source": [
    "FACA.to_csv('/home/simon/Desktop/Bachelor_project/data/cvs_files/FAC_A.csv')\n",
    "FACC.to_csv('/home/simon/Desktop/Bachelor_project/data/cvs_files/FAC_C.csv')\n",
    "DNS.to_csv('/home/simon/Desktop/Bachelor_project/data/cvs_files/DNS.csv')\n",
    "df_allign.to_csv('/home/simon/Desktop/Bachelor_project/data/cvs_files/half_orbit_means.csv')"
   ]
  }
 ],
 "metadata": {
  "kernelspec": {
   "display_name": "Python 3",
   "language": "python",
   "name": "python3"
  },
  "language_info": {
   "codemirror_mode": {
    "name": "ipython",
    "version": 3
   },
   "file_extension": ".py",
   "mimetype": "text/x-python",
   "name": "python",
   "nbconvert_exporter": "python",
   "pygments_lexer": "ipython3",
   "version": "3.6.4"
  }
 },
 "nbformat": 4,
 "nbformat_minor": 2
}
