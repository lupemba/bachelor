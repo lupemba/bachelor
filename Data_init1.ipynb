{
 "cells": [
  {
   "cell_type": "markdown",
   "metadata": {},
   "source": [
    "# Import data from cdf to panda data frame and save as .pkl"
   ]
  },
  {
   "cell_type": "code",
   "execution_count": 1,
   "metadata": {},
   "outputs": [],
   "source": [
    "import pandas as pd\n",
    "import numpy as np\n",
    "import pickle\n",
    "import My_functions_v2 as my"
   ]
  },
  {
   "cell_type": "markdown",
   "metadata": {},
   "source": [
    "### Load and save the single FAC data with orbit nr"
   ]
  },
  {
   "cell_type": "code",
   "execution_count": 2,
   "metadata": {},
   "outputs": [],
   "source": [
    "DNS = my.load_DNS()\n",
    "DNS = DNS.dropna(how='any')\n",
    "my.add_orbit(DNS)"
   ]
  },
  {
   "cell_type": "code",
   "execution_count": 3,
   "metadata": {},
   "outputs": [],
   "source": [
    "FACA = my.load_FAC('A')\n",
    "# Adds orbit to FAC based on DNS so orbit nr alling even tho there is data gab in FAC\n",
    "FACA_add_Orbit = DNS.loc[:,['Orbit_nr','Hemisphere']].reindex(FACA.index,method='nearest')\n",
    "FACA = pd.concat([FACA,FACA_add_Orbit], axis=1)\n",
    "\n",
    "FACA.to_pickle('/home/simon/Desktop/Bachelor_project/data/pkl_files/FAC_A.pkl')\n",
    "# Free up some memory\n",
    "del FACA"
   ]
  },
  {
   "cell_type": "code",
   "execution_count": 4,
   "metadata": {},
   "outputs": [],
   "source": [
    "FACC = my.load_FAC('C')\n",
    "\n",
    "# Adds orbit to FAC based on DNS so orbit nr alling even tho there is data gab in FAC\n",
    "FACC_add_Orbit = DNS.loc[:,['Orbit_nr','Hemisphere']].reindex(FACC.index,method='nearest')\n",
    "FACC = pd.concat([FACC,FACC_add_Orbit], axis=1)\n",
    "\n",
    "FACC.to_pickle('/home/simon/Desktop/Bachelor_project/data/pkl_files/FAC_C.pkl')\n",
    "# Free up some memory\n",
    "del FACC"
   ]
  },
  {
   "cell_type": "markdown",
   "metadata": {},
   "source": [
    "### Load the dual FAC data"
   ]
  },
  {
   "cell_type": "code",
   "execution_count": 5,
   "metadata": {},
   "outputs": [],
   "source": [
    "FAC = my.load_FAC('dual')\n",
    "FAC = FAC.dropna(how='any')\n",
    "\n",
    "# Adds orbit to FAC based on DNS so orbit nr alling even tho there is data gab in FAC\n",
    "FAC_add_Orbit = DNS.loc[:,['Orbit_nr','Hemisphere']].reindex(FAC.index,method='nearest')\n",
    "FAC = pd.concat([FAC,FAC_add_Orbit], axis=1)\n"
   ]
  },
  {
   "cell_type": "markdown",
   "metadata": {},
   "source": [
    "## Save dual FAC and Density data"
   ]
  },
  {
   "cell_type": "code",
   "execution_count": 6,
   "metadata": {},
   "outputs": [],
   "source": [
    "FAC.to_pickle('/home/simon/Desktop/Bachelor_project/data/pkl_files/FAC_dual.pkl')\n",
    "DNS.to_pickle('/home/simon/Desktop/Bachelor_project/data/pkl_files/DNS.pkl')"
   ]
  }
 ],
 "metadata": {
  "kernelspec": {
   "display_name": "Python 3",
   "language": "python",
   "name": "python3"
  },
  "language_info": {
   "codemirror_mode": {
    "name": "ipython",
    "version": 3
   },
   "file_extension": ".py",
   "mimetype": "text/x-python",
   "name": "python",
   "nbconvert_exporter": "python",
   "pygments_lexer": "ipython3",
   "version": "3.6.4"
  }
 },
 "nbformat": 4,
 "nbformat_minor": 2
}
