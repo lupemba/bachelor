{
 "cells": [
  {
   "cell_type": "markdown",
   "metadata": {},
   "source": [
    "# Bachelor project: Swarm data\n",
    "This use panda and my new fuctions to plot the data and half orbit means"
   ]
  },
  {
   "cell_type": "code",
   "execution_count": 13,
   "metadata": {},
   "outputs": [],
   "source": [
    "%matplotlib notebook\n",
    "import pandas as pd\n",
    "import numpy as np\n",
    "import os\n",
    "import matplotlib.pyplot as plt\n",
    "os.chdir('/home/simon/Desktop/Bachelor_project/code')\n",
    "import My_functions as my\n",
    "days = 31"
   ]
  },
  {
   "cell_type": "markdown",
   "metadata": {},
   "source": [
    "Load the data PANDA"
   ]
  },
  {
   "cell_type": "code",
   "execution_count": 2,
   "metadata": {
    "scrolled": true
   },
   "outputs": [
    {
     "name": "stderr",
     "output_type": "stream",
     "text": [
      "\u001b[31;1mERROR\u001b[0m\tUnable to unzip file /home/simon/Desktop/Bachelor_project/data/SW_OPER_FACATMS_2F_20150305T000000_20150305T235959_0205.ZIP to location /tmp/swarmtoolkit_bc5o_2kj\n",
      "\tEnsure that the files and locations are valid and that the file is not corrupted\n"
     ]
    },
    {
     "name": "stdout",
     "output_type": "stream",
     "text": [
      "SW_OPER_FACATMS_2F_20150305T000000_20150305T235959_0205.ZIP Was not found\n"
     ]
    }
   ],
   "source": [
    "FAC = my.load_FAC('A',days)\n",
    "DNS = my.load_DNS(days)\n",
    "ap = my.load_ap(days)\n",
    "FAC = FAC.dropna(how='any')\n",
    "DNS = DNS.dropna(how='any')\n",
    "my.add_orbit(FAC)\n",
    "my.add_orbit(DNS)"
   ]
  },
  {
   "cell_type": "markdown",
   "metadata": {},
   "source": [
    "## The intial data\n",
    "The structure of FAC and DNS is"
   ]
  },
  {
   "cell_type": "code",
   "execution_count": 9,
   "metadata": {},
   "outputs": [
    {
     "data": {
      "text/html": [
       "<div>\n",
       "<style scoped>\n",
       "    .dataframe tbody tr th:only-of-type {\n",
       "        vertical-align: middle;\n",
       "    }\n",
       "\n",
       "    .dataframe tbody tr th {\n",
       "        vertical-align: top;\n",
       "    }\n",
       "\n",
       "    .dataframe thead th {\n",
       "        text-align: right;\n",
       "    }\n",
       "</style>\n",
       "<table border=\"1\" class=\"dataframe\">\n",
       "  <thead>\n",
       "    <tr style=\"text-align: right;\">\n",
       "      <th></th>\n",
       "      <th>Latitude</th>\n",
       "      <th>Longitude</th>\n",
       "      <th>Radius</th>\n",
       "      <th>IRC</th>\n",
       "      <th>IRC_Error</th>\n",
       "      <th>FAC</th>\n",
       "      <th>FAC_Error</th>\n",
       "      <th>Flags</th>\n",
       "      <th>Flags_F</th>\n",
       "      <th>Flags_B</th>\n",
       "      <th>Flags_q</th>\n",
       "      <th>Orbit_nr</th>\n",
       "      <th>Hemisphere</th>\n",
       "    </tr>\n",
       "  </thead>\n",
       "  <tbody>\n",
       "    <tr>\n",
       "      <th>2015-03-01 00:00:00.500</th>\n",
       "      <td>85.872899</td>\n",
       "      <td>96.889383</td>\n",
       "      <td>6823984.24</td>\n",
       "      <td>-0.420756</td>\n",
       "      <td>-0.005832</td>\n",
       "      <td>0.420976</td>\n",
       "      <td>0.005835</td>\n",
       "      <td>0.0</td>\n",
       "      <td>2.0</td>\n",
       "      <td>0.0</td>\n",
       "      <td>0.0</td>\n",
       "      <td>0.0</td>\n",
       "      <td>1.0</td>\n",
       "    </tr>\n",
       "    <tr>\n",
       "      <th>2015-03-01 00:00:01.500</th>\n",
       "      <td>85.823529</td>\n",
       "      <td>97.451080</td>\n",
       "      <td>6823985.69</td>\n",
       "      <td>0.062883</td>\n",
       "      <td>0.066713</td>\n",
       "      <td>-0.062915</td>\n",
       "      <td>0.066748</td>\n",
       "      <td>0.0</td>\n",
       "      <td>2.0</td>\n",
       "      <td>0.0</td>\n",
       "      <td>0.0</td>\n",
       "      <td>0.0</td>\n",
       "      <td>1.0</td>\n",
       "    </tr>\n",
       "    <tr>\n",
       "      <th>2015-03-01 00:00:02.500</th>\n",
       "      <td>85.773762</td>\n",
       "      <td>97.999525</td>\n",
       "      <td>6823987.16</td>\n",
       "      <td>-0.036682</td>\n",
       "      <td>0.051779</td>\n",
       "      <td>0.036701</td>\n",
       "      <td>0.051805</td>\n",
       "      <td>0.0</td>\n",
       "      <td>2.0</td>\n",
       "      <td>0.0</td>\n",
       "      <td>0.0</td>\n",
       "      <td>0.0</td>\n",
       "      <td>1.0</td>\n",
       "    </tr>\n",
       "  </tbody>\n",
       "</table>\n",
       "</div>"
      ],
      "text/plain": [
       "                          Latitude  Longitude      Radius       IRC  \\\n",
       "2015-03-01 00:00:00.500  85.872899  96.889383  6823984.24 -0.420756   \n",
       "2015-03-01 00:00:01.500  85.823529  97.451080  6823985.69  0.062883   \n",
       "2015-03-01 00:00:02.500  85.773762  97.999525  6823987.16 -0.036682   \n",
       "\n",
       "                         IRC_Error       FAC  FAC_Error  Flags  Flags_F  \\\n",
       "2015-03-01 00:00:00.500  -0.005832  0.420976   0.005835    0.0      2.0   \n",
       "2015-03-01 00:00:01.500   0.066713 -0.062915   0.066748    0.0      2.0   \n",
       "2015-03-01 00:00:02.500   0.051779  0.036701   0.051805    0.0      2.0   \n",
       "\n",
       "                         Flags_B  Flags_q  Orbit_nr  Hemisphere  \n",
       "2015-03-01 00:00:00.500      0.0      0.0       0.0         1.0  \n",
       "2015-03-01 00:00:01.500      0.0      0.0       0.0         1.0  \n",
       "2015-03-01 00:00:02.500      0.0      0.0       0.0         1.0  "
      ]
     },
     "execution_count": 9,
     "metadata": {},
     "output_type": "execute_result"
    }
   ],
   "source": [
    "FAC.head(3)"
   ]
  },
  {
   "cell_type": "code",
   "execution_count": 10,
   "metadata": {},
   "outputs": [
    {
     "data": {
      "text/html": [
       "<div>\n",
       "<style scoped>\n",
       "    .dataframe tbody tr th:only-of-type {\n",
       "        vertical-align: middle;\n",
       "    }\n",
       "\n",
       "    .dataframe tbody tr th {\n",
       "        vertical-align: top;\n",
       "    }\n",
       "\n",
       "    .dataframe thead th {\n",
       "        text-align: right;\n",
       "    }\n",
       "</style>\n",
       "<table border=\"1\" class=\"dataframe\">\n",
       "  <thead>\n",
       "    <tr style=\"text-align: right;\">\n",
       "      <th></th>\n",
       "      <th>Altitude</th>\n",
       "      <th>Latitude</th>\n",
       "      <th>Longitude</th>\n",
       "      <th>Local_solar_time</th>\n",
       "      <th>Density</th>\n",
       "      <th>Orbit_nr</th>\n",
       "      <th>Hemisphere</th>\n",
       "    </tr>\n",
       "  </thead>\n",
       "  <tbody>\n",
       "    <tr>\n",
       "      <th>2015-03-01 00:00:10</th>\n",
       "      <td>467092.145535</td>\n",
       "      <td>85.117592</td>\n",
       "      <td>105.579979</td>\n",
       "      <td>6.833068</td>\n",
       "      <td>8.285023e-13</td>\n",
       "      <td>0.0</td>\n",
       "      <td>1.0</td>\n",
       "    </tr>\n",
       "    <tr>\n",
       "      <th>2015-03-01 00:00:20</th>\n",
       "      <td>467073.571848</td>\n",
       "      <td>84.569942</td>\n",
       "      <td>109.177030</td>\n",
       "      <td>7.075650</td>\n",
       "      <td>8.265684e-13</td>\n",
       "      <td>0.0</td>\n",
       "      <td>1.0</td>\n",
       "    </tr>\n",
       "    <tr>\n",
       "      <th>2015-03-01 00:00:30</th>\n",
       "      <td>467051.715982</td>\n",
       "      <td>84.004519</td>\n",
       "      <td>112.099728</td>\n",
       "      <td>7.273275</td>\n",
       "      <td>8.293079e-13</td>\n",
       "      <td>0.0</td>\n",
       "      <td>1.0</td>\n",
       "    </tr>\n",
       "  </tbody>\n",
       "</table>\n",
       "</div>"
      ],
      "text/plain": [
       "                          Altitude   Latitude   Longitude  Local_solar_time  \\\n",
       "2015-03-01 00:00:10  467092.145535  85.117592  105.579979          6.833068   \n",
       "2015-03-01 00:00:20  467073.571848  84.569942  109.177030          7.075650   \n",
       "2015-03-01 00:00:30  467051.715982  84.004519  112.099728          7.273275   \n",
       "\n",
       "                          Density  Orbit_nr  Hemisphere  \n",
       "2015-03-01 00:00:10  8.285023e-13       0.0         1.0  \n",
       "2015-03-01 00:00:20  8.265684e-13       0.0         1.0  \n",
       "2015-03-01 00:00:30  8.293079e-13       0.0         1.0  "
      ]
     },
     "execution_count": 10,
     "metadata": {},
     "output_type": "execute_result"
    }
   ],
   "source": [
    "DNS.head(3)"
   ]
  },
  {
   "cell_type": "markdown",
   "metadata": {},
   "source": [
    "Plot the intial data"
   ]
  },
  {
   "cell_type": "code",
   "execution_count": 23,
   "metadata": {
    "scrolled": true
   },
   "outputs": [
    {
     "data": {
      "image/png": "[encoded data removed]",
      "text/plain": [
       "<matplotlib.figure.Figure at 0x7f5459268cf8>"
      ]
     },
     "metadata": {},
     "output_type": "display_data"
    }
   ],
   "source": [
    "plt.figure()\n",
    "\n",
    "p1 = FAC.FAC['20150316':'20150319'].plot(legend=True)\n",
    "p2 = DNS.Density['20150316':'20150319'].plot(secondary_y=True, style='r',legend=True)\n",
    "p1.set_ylabel('muA/m^2')\n",
    "p1.right_ax.set_ylabel('kg/m^3')\n",
    "plt.title('The inital data')\n",
    "plt.show()"
   ]
  },
  {
   "cell_type": "markdown",
   "metadata": {},
   "source": [
    "## Half orbit means\n",
    "Filter the FAC before mean"
   ]
  },
  {
   "cell_type": "code",
   "execution_count": 8,
   "metadata": {},
   "outputs": [],
   "source": [
    "FAC_filter = FAC.loc[abs(FAC.FAC_Error)<40]"
   ]
  },
  {
   "cell_type": "markdown",
   "metadata": {},
   "source": [
    "Calculate the half orbit means"
   ]
  },
  {
   "cell_type": "code",
   "execution_count": 5,
   "metadata": {},
   "outputs": [],
   "source": [
    "FAC_mean=my.orbit_means(FAC_filter)\n",
    "DNS_mean=my.orbit_means(DNS)"
   ]
  },
  {
   "cell_type": "markdown",
   "metadata": {},
   "source": [
    "The structure of half orbit means are the same for FAC and DNS"
   ]
  },
  {
   "cell_type": "code",
   "execution_count": 12,
   "metadata": {},
   "outputs": [
    {
     "data": {
      "text/html": [
       "<div>\n",
       "<style scoped>\n",
       "    .dataframe tbody tr th:only-of-type {\n",
       "        vertical-align: middle;\n",
       "    }\n",
       "\n",
       "    .dataframe tbody tr th {\n",
       "        vertical-align: top;\n",
       "    }\n",
       "\n",
       "    .dataframe thead th {\n",
       "        text-align: right;\n",
       "    }\n",
       "</style>\n",
       "<table border=\"1\" class=\"dataframe\">\n",
       "  <thead>\n",
       "    <tr style=\"text-align: right;\">\n",
       "      <th></th>\n",
       "      <th>FAC</th>\n",
       "      <th>Orbit_nr</th>\n",
       "      <th>Hemisphere</th>\n",
       "      <th>Count</th>\n",
       "      <th>Delta_time</th>\n",
       "    </tr>\n",
       "  </thead>\n",
       "  <tbody>\n",
       "    <tr>\n",
       "      <th>2015-03-01 00:43:29.500</th>\n",
       "      <td>0.394035</td>\n",
       "      <td>0.0</td>\n",
       "      <td>-1.0</td>\n",
       "      <td>2297.0</td>\n",
       "      <td>2296.0</td>\n",
       "    </tr>\n",
       "    <tr>\n",
       "      <th>2015-03-01 01:31:30.500</th>\n",
       "      <td>0.327109</td>\n",
       "      <td>1.0</td>\n",
       "      <td>1.0</td>\n",
       "      <td>2331.0</td>\n",
       "      <td>2330.0</td>\n",
       "    </tr>\n",
       "    <tr>\n",
       "      <th>2015-03-01 02:16:53.500</th>\n",
       "      <td>0.424904</td>\n",
       "      <td>1.0</td>\n",
       "      <td>-1.0</td>\n",
       "      <td>2275.0</td>\n",
       "      <td>2274.0</td>\n",
       "    </tr>\n",
       "  </tbody>\n",
       "</table>\n",
       "</div>"
      ],
      "text/plain": [
       "                              FAC  Orbit_nr  Hemisphere   Count  Delta_time\n",
       "2015-03-01 00:43:29.500  0.394035       0.0        -1.0  2297.0      2296.0\n",
       "2015-03-01 01:31:30.500  0.327109       1.0         1.0  2331.0      2330.0\n",
       "2015-03-01 02:16:53.500  0.424904       1.0        -1.0  2275.0      2274.0"
      ]
     },
     "execution_count": 12,
     "metadata": {},
     "output_type": "execute_result"
    }
   ],
   "source": [
    "FAC_mean.head(3)"
   ]
  },
  {
   "cell_type": "markdown",
   "metadata": {},
   "source": [
    "Remove all half orbits with times that diviates more than 6 min"
   ]
  },
  {
   "cell_type": "code",
   "execution_count": 6,
   "metadata": {},
   "outputs": [],
   "source": [
    "FAC_mean=FAC_mean.loc[abs(FAC_mean.Delta_time-FAC_mean.Delta_time.median())<360]\n",
    "DNS_mean=DNS_mean.loc[abs(DNS_mean.Delta_time-DNS_mean.Delta_time.median())<360]"
   ]
  },
  {
   "cell_type": "markdown",
   "metadata": {},
   "source": [
    "Plot the results"
   ]
  },
  {
   "cell_type": "code",
   "execution_count": 22,
   "metadata": {
    "scrolled": true
   },
   "outputs": [
    {
     "data": {
      "image/png": "[encoded data removed]",
      "text/plain": [
       "<matplotlib.figure.Figure at 0x7f546a67e898>"
      ]
     },
     "metadata": {},
     "output_type": "display_data"
    }
   ],
   "source": [
    "plt.figure()\n",
    "\n",
    "p1 = FAC_mean.FAC.plot(legend=True)\n",
    "p2 = DNS_mean.Density.plot(secondary_y=True, style='r',legend=True)\n",
    "p1.set_ylabel('muA/m^2')\n",
    "p1.right_ax.set_ylabel('kg/m^3')\n",
    "plt.title('Half orbital means')\n",
    "plt.show()"
   ]
  }
 ],
 "metadata": {
  "kernelspec": {
   "display_name": "Python 3",
   "language": "python",
   "name": "python3"
  },
  "language_info": {
   "codemirror_mode": {
    "name": "ipython",
    "version": 3
   },
   "file_extension": ".py",
   "mimetype": "text/x-python",
   "name": "python",
   "nbconvert_exporter": "python",
   "pygments_lexer": "ipython3",
   "version": "3.6.4"
  }
 },
 "nbformat": 4,
 "nbformat_minor": 2
}
